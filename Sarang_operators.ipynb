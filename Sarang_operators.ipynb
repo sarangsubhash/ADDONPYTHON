{
  "nbformat": 4,
  "nbformat_minor": 0,
  "metadata": {
    "colab": {
      "provenance": [],
      "toc_visible": true
    },
    "kernelspec": {
      "name": "python3",
      "display_name": "Python 3"
    },
    "language_info": {
      "name": "python"
    }
  },
  "cells": [
    {
      "cell_type": "markdown",
      "source": [
        "Write a Python program to find the area of a circle with a given radius\n",
        "using the formula area = pi * r ** 2. Assume that pi is 3.14.\n"
      ],
      "metadata": {
        "id": "niO-NqSYaz1k"
      }
    },
    {
      "cell_type": "code",
      "source": [
        "r=int(input(\"Enter the radius of the circle\"))\n",
        "pi=3.14\n",
        "area=(pi*r**2)\n",
        "print('The area is = ',area)\n"
      ],
      "metadata": {
        "colab": {
          "base_uri": "https://localhost:8080/"
        },
        "id": "kt9X-YLQa11y",
        "outputId": "6fb514a0-2e1d-45c5-e1e4-87766cf606d9"
      },
      "execution_count": null,
      "outputs": [
        {
          "output_type": "stream",
          "name": "stdout",
          "text": [
            "Enter the radius of the circle5\n",
            "The area is =  78.5\n"
          ]
        }
      ]
    },
    {
      "cell_type": "markdown",
      "source": [
        "Write a Python program to convert Celsius to Fahrenheit using the\n",
        "formula F = (C * 9/5) + 32."
      ],
      "metadata": {
        "id": "QgC6Mdaub5Uz"
      }
    },
    {
      "cell_type": "code",
      "source": [
        "c=float(input('enter the temperature in celcius'))\n",
        "F=(c*9/5)+32\n",
        "print('The fahrenheit temperature is ',F)"
      ],
      "metadata": {
        "colab": {
          "base_uri": "https://localhost:8080/"
        },
        "id": "Dia3b5YRcCj_",
        "outputId": "98a2d6b1-6ff0-48ea-f971-28c35bdccd92"
      },
      "execution_count": null,
      "outputs": [
        {
          "output_type": "stream",
          "name": "stdout",
          "text": [
            "enter the temperature in celcius32\n",
            "The fahrenheit temperature is  89.6\n"
          ]
        }
      ]
    },
    {
      "cell_type": "markdown",
      "source": [
        "Write a Python program to find the quotient and remainder of two\n",
        "numbers using the division operator / and the modulo operator %."
      ],
      "metadata": {
        "id": "3yXYPwsodB3R"
      }
    },
    {
      "cell_type": "code",
      "source": [
        "a=int(input('Enter the number'))\n",
        "b=int(input('Enter the nuber to be divided'))\n",
        "div=a/b\n",
        "mod=a%b\n",
        "print(\"The reminder is \",div)\n",
        "print('The quotient is',mod)"
      ],
      "metadata": {
        "colab": {
          "base_uri": "https://localhost:8080/"
        },
        "id": "jwH36W00dEs0",
        "outputId": "99bd503f-4f7b-4d18-ece5-d6891ea10a53"
      },
      "execution_count": null,
      "outputs": [
        {
          "output_type": "stream",
          "name": "stdout",
          "text": [
            "Enter the number8\n",
            "Enter the nuber to be divided2\n",
            "The reminder is  4.0\n",
            "The quotient is 0\n"
          ]
        }
      ]
    },
    {
      "cell_type": "markdown",
      "source": [
        "Write a Python program to check whether a given number is even or odd\n",
        "using the modulo operator %."
      ],
      "metadata": {
        "id": "c2x9W6Aldx77"
      }
    },
    {
      "cell_type": "code",
      "source": [
        "num = int(input(\"Enter a number: \"))\n",
        "if num%2==0:\n",
        "    print(\"The number is even.\")\n",
        "else:\n",
        "    print(\"The number is odd.\")\n"
      ],
      "metadata": {
        "colab": {
          "base_uri": "https://localhost:8080/"
        },
        "id": "ZBVo0dC5d3vQ",
        "outputId": "5c1334bc-bf82-422a-85a9-1cc8acc2bb7e"
      },
      "execution_count": null,
      "outputs": [
        {
          "output_type": "stream",
          "name": "stdout",
          "text": [
            "Enter a number: 11\n",
            "The number is odd.\n"
          ]
        }
      ]
    },
    {
      "cell_type": "markdown",
      "source": [
        "Write a Python program to calculate the average of three numbers\n",
        "entered by the user."
      ],
      "metadata": {
        "id": "1iMFfsAffz_j"
      }
    },
    {
      "cell_type": "code",
      "source": [
        "n1=int(input('enter first number'))\n",
        "n2=int(input(\"enter second number\"))\n",
        "n3=int(input(\"enter third number\"))\n",
        "avg=(n1+n2+n3)/(3)\n",
        "print('average=',avg)"
      ],
      "metadata": {
        "colab": {
          "base_uri": "https://localhost:8080/"
        },
        "id": "4ETNCBCef14i",
        "outputId": "41128942-9525-41c2-8868-676f0e2fa8e7"
      },
      "execution_count": null,
      "outputs": [
        {
          "output_type": "stream",
          "name": "stdout",
          "text": [
            "enter first number7\n",
            "enter second number12\n",
            "enter third number15\n",
            "average= 11.333333333333334\n"
          ]
        }
      ]
    },
    {
      "cell_type": "markdown",
      "source": [
        "Write a Python program to swap two variables without using a\n",
        "temporary variable.\n"
      ],
      "metadata": {
        "id": "KDWfKLEvgP_N"
      }
    },
    {
      "cell_type": "code",
      "source": [
        "x =int(input('First number'))\n",
        "y =int(input('Second number'))\n",
        "\n",
        "x,y = y,x\n",
        "print(\"First number =\", x)\n",
        "print(\"Second number =\", y)"
      ],
      "metadata": {
        "colab": {
          "base_uri": "https://localhost:8080/"
        },
        "id": "vBUX25hYhRGq",
        "outputId": "6e206645-87e3-4428-9e92-2352419325c2"
      },
      "execution_count": null,
      "outputs": [
        {
          "output_type": "stream",
          "name": "stdout",
          "text": [
            "First number5\n",
            "Second number3\n",
            "First number = 3\n",
            "Second number = 5\n"
          ]
        }
      ]
    },
    {
      "cell_type": "markdown",
      "source": [
        "Write a Python program to calculate the area of a rectangle with given\n",
        "length and breadth."
      ],
      "metadata": {
        "id": "-WFhm0l0kL-0"
      }
    },
    {
      "cell_type": "code",
      "source": [
        "len=int(input('Enter the length'))\n",
        "bdt=int(input('Enter the breadth'))\n",
        "area=len*bdt\n",
        "print('AREA=',area)"
      ],
      "metadata": {
        "id": "glXG5g7CkNJ4",
        "colab": {
          "base_uri": "https://localhost:8080/"
        },
        "outputId": "0ad112e9-04be-4278-a2e3-b30d81ff6b73"
      },
      "execution_count": null,
      "outputs": [
        {
          "output_type": "stream",
          "name": "stdout",
          "text": [
            "Enter the length24\n",
            "Enter the breadth12\n",
            "AREA= 288\n"
          ]
        }
      ]
    },
    {
      "cell_type": "markdown",
      "source": [
        "Write a Python program to calculate the sum of the digits of a three-digit\n",
        "number."
      ],
      "metadata": {
        "id": "B8TzXHhNlcCs"
      }
    },
    {
      "cell_type": "code",
      "source": [
        "\n",
        "num = input(\"Enter a three-digit number: \")\n",
        "sumdig = int(num[0]) + int(num[1]) + int(num[2])\n",
        "print(\"Sum of the digits:\", sumdig)\n"
      ],
      "metadata": {
        "colab": {
          "base_uri": "https://localhost:8080/"
        },
        "id": "Mpu0alisr9mg",
        "outputId": "bd4177f1-57ff-4570-d56e-6b7cc0152060"
      },
      "execution_count": null,
      "outputs": [
        {
          "output_type": "stream",
          "name": "stdout",
          "text": [
            "Enter a three-digit number: 345\n",
            "Sum of the digits: 12\n"
          ]
        }
      ]
    },
    {
      "cell_type": "markdown",
      "source": [
        "Write a Python program to check whether a given year is a leap year or\n",
        "not.\n"
      ],
      "metadata": {
        "id": "8KgoErFvtHh8"
      }
    },
    {
      "cell_type": "code",
      "source": [
        "yr=int(input('Enter a year'))\n",
        "print(\"Leap year\" if (yr % 4 == 0) else (print('Not leap Year')))\n"
      ],
      "metadata": {
        "colab": {
          "base_uri": "https://localhost:8080/"
        },
        "id": "7-_rBg0WtLEo",
        "outputId": "01b6788b-fcf6-4e33-b551-aa7c0930dd7a"
      },
      "execution_count": null,
      "outputs": [
        {
          "output_type": "stream",
          "name": "stdout",
          "text": [
            "Enter a year2024\n",
            "Leap year\n"
          ]
        }
      ]
    },
    {
      "cell_type": "markdown",
      "source": [
        ".Write a Python program to find the maximum and minimum of two\n",
        "numbers entered by the user.\n",
        "\n",
        "\n"
      ],
      "metadata": {
        "id": "ijFmjPSmurnq"
      }
    },
    {
      "cell_type": "code",
      "source": [
        "a = float(input('Enter a number: '))\n",
        "b = float(input('Enter another number: '))\n",
        "\n",
        "if a > b:\n",
        "    print(\"Maximum is\", a, \"Minimum is =\", b)\n",
        "else:\n",
        "    print(\"Minimum is =\", a, \"and Maximum is =\", b)\n"
      ],
      "metadata": {
        "colab": {
          "base_uri": "https://localhost:8080/"
        },
        "id": "k5a7G_DTvUVZ",
        "outputId": "1c240be0-5505-4827-d0da-7d55d3ff104f"
      },
      "execution_count": null,
      "outputs": [
        {
          "output_type": "stream",
          "name": "stdout",
          "text": [
            "Enter a number: 56\n",
            "Enter another number: 74.3\n",
            "Minimum is = 56.0 and Maximum is = 74.3\n"
          ]
        }
      ]
    }
  ]
}